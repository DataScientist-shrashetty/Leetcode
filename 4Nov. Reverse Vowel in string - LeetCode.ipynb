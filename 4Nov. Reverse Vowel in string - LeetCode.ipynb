{
 "cells": [
  {
   "cell_type": "code",
   "execution_count": null,
   "id": "017e6918",
   "metadata": {},
   "outputs": [],
   "source": [
    "Given a string s, reverse only all the vowels in the string and return it.\n",
    "The vowels are 'a', 'e', 'i', 'o', and 'u', and they can appear in both lower and upper cases, more than once.\n",
    "Example 1:\n",
    "    Input: s = \"hello\"\n",
    "    Output: \"holle\"\n",
    "\n",
    "Example 2:\n",
    "    Input: s = \"leetcode\"\n",
    "    Output: \"leotcede\"\n",
    "\n",
    "Constraints:\n",
    "1 <= s.length <= 3 * 105\n",
    "s consist of printable ASCII characters."
   ]
  },
  {
   "cell_type": "code",
   "execution_count": 17,
   "id": "38be581d",
   "metadata": {},
   "outputs": [
    {
     "name": "stdout",
     "output_type": "stream",
     "text": [
      "shraddhashettyiou\n",
      "shruddhoshittyeaa\n"
     ]
    }
   ],
   "source": [
    "# Stack implementation in python\n",
    "\n",
    "def reverseVowels(s):\n",
    "    vowels = [each for each in s if each in \"aeiouAEIOU\"]\n",
    "    stack = create_stack()\n",
    "    for v in vowels:\n",
    "        push(stack,v)\n",
    "    li = list(s)\n",
    "    for i in range(0,len(li)):\n",
    "        if li[i] in \"aeiouAEIOU\":\n",
    "            li[i] = pop(stack)\n",
    "    s_new = \"\".join(li)\n",
    "    return print(s_new)\n",
    "if __name__ == \"__main__\":\n",
    "    s = input()\n",
    "    reverseVowels(s)"
   ]
  },
  {
   "cell_type": "code",
   "execution_count": 18,
   "id": "9a283c8b",
   "metadata": {},
   "outputs": [],
   "source": [
    "class Solution:\n",
    "    def create_stack():\n",
    "        stack = []\n",
    "        return stack\n",
    "    def check_empty(stack):\n",
    "        return len(stack) == 0\n",
    "    def push(stack, item):\n",
    "        stack.append(item)\n",
    "    def pop(stack):\n",
    "        if (check_empty(stack)):\n",
    "            return \"stack is empty\"\n",
    "        return stack.pop()\n",
    "    def reverseVowels(self, s: str) -> str:\n",
    "        vowels = [each for each in s if each in \"aeiouAEIOU\"]\n",
    "        stack = self.create_stack()\n",
    "        for v in vowels:\n",
    "            self.push(stack,v)\n",
    "        li = list(s)\n",
    "        for i in range(0,len(li)):\n",
    "            if li[i] in \"aeiouAEIOU\":\n",
    "                li[i] = self.pop(stack)\n",
    "        return \"\".join(li)\n",
    "        "
   ]
  },
  {
   "cell_type": "code",
   "execution_count": 19,
   "id": "c629c558",
   "metadata": {},
   "outputs": [],
   "source": [
    "class Solution:\n",
    "    def reverseVowels(self, s: str) -> str:\n",
    "        s = list(s)\n",
    "        vowels = []\n",
    "        indices = []\n",
    "        for index, char in enumerate(s):\n",
    "            if char.lower() in {\"a\", \"e\", \"i\", \"o\", \"u\"}:\n",
    "                indices.append(index)\n",
    "                vowels.append(char)\n",
    "        for index,char in zip(reversed(indices),vowels):\n",
    "            s[index] = char\n",
    "        return \"\".join(s)"
   ]
  },
  {
   "cell_type": "code",
   "execution_count": null,
   "id": "f287e95c",
   "metadata": {},
   "outputs": [],
   "source": [
    "def create_stack():\n",
    "    stack = []\n",
    "    return stack\n",
    "def check_empty(stack):\n",
    "    return len(stack) == 0\n",
    "def push(stack, item):\n",
    "    stack.append(item)\n",
    "def pop(stack):\n",
    "    if (check_empty(stack)):\n",
    "        return \"stack is empty\"\n",
    "    return stack.pop()\n",
    "class Solution:\n",
    "    def reverseVowels(self, s: str) -> str:\n",
    "        vowels = [each for each in s if each in \"aeiouAEIOU\"]\n",
    "        stack = create_stack()\n",
    "        for v in vowels:\n",
    "            push(stack,v)\n",
    "        li = list(s)\n",
    "        for i in range(0,len(li)):\n",
    "            if li[i] in \"aeiouAEIOU\":\n",
    "                li[i] = pop(stack)\n",
    "        return \"\".join(li)\n",
    "### Accepted Code ###\n",
    "Runtime: 62 ms, faster than 89.71% of Python3 online submissions for Reverse Vowels of a String.\n",
    "Memory Usage: 15.5 MB, less than 28.92% of Python3 online submissions for Reverse Vowels of a String."
   ]
  }
 ],
 "metadata": {
  "kernelspec": {
   "display_name": "Python 3 (ipykernel)",
   "language": "python",
   "name": "python3"
  },
  "language_info": {
   "codemirror_mode": {
    "name": "ipython",
    "version": 3
   },
   "file_extension": ".py",
   "mimetype": "text/x-python",
   "name": "python",
   "nbconvert_exporter": "python",
   "pygments_lexer": "ipython3",
   "version": "3.9.12"
  }
 },
 "nbformat": 4,
 "nbformat_minor": 5
}
