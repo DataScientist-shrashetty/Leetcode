{
 "cells": [
  {
   "cell_type": "code",
   "execution_count": null,
   "id": "92f778de",
   "metadata": {},
   "outputs": [],
   "source": [
    "You are given an array of unique integers salary where salary[i] is the salary of the ith employee.\n",
    "Return the average salary of employees excluding the minimum and maximum salary. \n",
    "Answers within 10-5 of the actual answer will be accepted.\n",
    "\n",
    "Example 1:\n",
    "Input: salary = [4000,3000,1000,2000]\n",
    "Output: 2500.00000\n",
    "\n",
    "Explanation: Minimum salary and maximum salary are 1000 and 4000 respectively.\n",
    "Average salary excluding minimum and maximum salary is (2000+3000) / 2 = 2500\n",
    "\n",
    "Example 2:\n",
    "Input: salary = [1000,2000,3000]\n",
    "Output: 2000.00000\n",
    "\n",
    "Explanation: Minimum salary and maximum salary are 1000 and 3000 respectively.\n",
    "Average salary excluding minimum and maximum salary is (2000) / 1 = 2000\n",
    " \n",
    "\n",
    "Constraints:\n",
    "3 <= salary.length <= 100\n",
    "1000 <= salary[i] <= 106\n",
    "All the integers of salary are unique."
   ]
  },
  {
   "cell_type": "code",
   "execution_count": null,
   "id": "84b52d0f",
   "metadata": {},
   "outputs": [],
   "source": [
    "class Solution:\n",
    "    def average(self, salary: List[int]) -> float:\n",
    "        Max = max(salary)\n",
    "        Min = min(salary)\n",
    "        salary = [ele for ele in salary if ele != (Max and Min)]\n",
    "        return sum(salary)/len(salary)"
   ]
  },
  {
   "cell_type": "code",
   "execution_count": 8,
   "id": "5280c0e4",
   "metadata": {},
   "outputs": [
    {
     "name": "stdout",
     "output_type": "stream",
     "text": [
      "1000 2000 3000\n",
      "2000.00000\n"
     ]
    }
   ],
   "source": [
    "if __name__ == \"__main__\":\n",
    "    salary = list(input().split())\n",
    "    salary.remove(max(salary))\n",
    "    salary.remove(min(salary))\n",
    "    if len(salary)>1:\n",
    "        avg = float(sum(salary)/len(salary))\n",
    "    else:\n",
    "        avg = float(salary[0])\n",
    "    print(\"%.5f\" % avg)"
   ]
  },
  {
   "cell_type": "code",
   "execution_count": null,
   "id": "9d12c0c6",
   "metadata": {},
   "outputs": [],
   "source": [
    "class Solution:\n",
    "    def average(self, salary: List[int]) -> float:\n",
    "        salary.remove(max(salary))\n",
    "        salary.remove(min(salary))\n",
    "        if len(salary)>1:\n",
    "            avg = float(sum(salary)/len(salary))\n",
    "        else:\n",
    "            avg = float(salary[0])\n",
    "        return (round(avg,5))\n",
    "'''\n",
    "Time Submitted      Status     Runtime  Memory  Language\n",
    "11/04/2022 15:03\tAccepted\t35 ms\t13.8 MB\tpython3\n",
    "'''"
   ]
  },
  {
   "cell_type": "code",
   "execution_count": null,
   "id": "dc095bfb",
   "metadata": {},
   "outputs": [],
   "source": []
  }
 ],
 "metadata": {
  "kernelspec": {
   "display_name": "Python 3 (ipykernel)",
   "language": "python",
   "name": "python3"
  },
  "language_info": {
   "codemirror_mode": {
    "name": "ipython",
    "version": 3
   },
   "file_extension": ".py",
   "mimetype": "text/x-python",
   "name": "python",
   "nbconvert_exporter": "python",
   "pygments_lexer": "ipython3",
   "version": "3.9.12"
  }
 },
 "nbformat": 4,
 "nbformat_minor": 5
}
