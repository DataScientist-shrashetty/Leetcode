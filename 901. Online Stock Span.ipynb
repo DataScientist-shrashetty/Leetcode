{
 "cells": [
  {
   "cell_type": "code",
   "execution_count": null,
   "id": "759a3dd5",
   "metadata": {},
   "outputs": [],
   "source": [
    "Design an algorithm that collects daily price quotes for some stock and returns the span of that stock's price \n",
    "for the current day.\n",
    "The span of the stock's price today is defined as the maximum number of consecutive days \n",
    "(starting from today and going backward) for which the stock price was less than or equal to today's price.\n",
    "For example, if the price of a stock over the next 7 days were [100,80,60,70,60,75,85], then the \n",
    "stock spans would be [1,1,1,2,1,4,6].\n",
    "Implement the StockSpanner class:\n",
    "StockSpanner() Initializes the object of the class.\n",
    "int next(int price) Returns the span of the stock's price given that today's price is price.\n",
    " \n",
    "\n",
    "Example 1:\n",
    "Input\n",
    "[\"StockSpanner\", \"next\", \"next\", \"next\", \"next\", \"next\", \"next\", \"next\"]\n",
    "[[], [100], [80], [60], [70], [60], [75], [85]]\n",
    "Output\n",
    "[null, 1, 1, 1, 2, 1, 4, 6]\n",
    "\n",
    "Explanation\n",
    "StockSpanner stockSpanner = new StockSpanner();\n",
    "stockSpanner.next(100); // return 1\n",
    "stockSpanner.next(80);  // return 1\n",
    "stockSpanner.next(60);  // return 1\n",
    "stockSpanner.next(70);  // return 2\n",
    "stockSpanner.next(60);  // return 1\n",
    "stockSpanner.next(75);  // return 4, because the last 4 prices (including today's price of 75) were less than or equal to today's price.\n",
    "stockSpanner.next(85);  // return 6\n",
    " \n",
    "\n",
    "Constraints:\n",
    "\n",
    "1 <= price <= 105\n",
    "At most 104 calls will be made to next."
   ]
  },
  {
   "cell_type": "code",
   "execution_count": null,
   "id": "4c033ad0",
   "metadata": {},
   "outputs": [],
   "source": [
    "class StockSpanner(object):\n",
    "    def __init__(self):\n",
    "        self.__s = []\n",
    "    def next(self, price):\n",
    "        result = 1\n",
    "        while self.__s and self.__s[-1][0] <= price:\n",
    "            result += self.__s.pop()[1]\n",
    "        self.__s.append([price, result])\n",
    "        return result"
   ]
  }
 ],
 "metadata": {
  "kernelspec": {
   "display_name": "Python 3 (ipykernel)",
   "language": "python",
   "name": "python3"
  },
  "language_info": {
   "codemirror_mode": {
    "name": "ipython",
    "version": 3
   },
   "file_extension": ".py",
   "mimetype": "text/x-python",
   "name": "python",
   "nbconvert_exporter": "python",
   "pygments_lexer": "ipython3",
   "version": "3.9.12"
  }
 },
 "nbformat": 4,
 "nbformat_minor": 5
}
