{
 "cells": [
  {
   "cell_type": "code",
   "execution_count": null,
   "id": "921e30e3",
   "metadata": {},
   "outputs": [],
   "source": [
    "1523. Count Odd Numbers in an Interval Range\n",
    "Given two non-negative integers low and high. Return the count of odd numbers between low and high (inclusive).\n",
    "Example 1:\n",
    "Input: low = 3, high = 7\n",
    "Output: 3\n",
    "Explanation: The odd numbers between 3 and 7 are [3,5,7].\n",
    "Example 2:\n",
    "Input: low = 8, high = 10\n",
    "Output: 1\n",
    "Explanation: The odd numbers between 8 and 10 are [9].\n",
    "Constraints:\n",
    "0 <= low <= high <= 10^9"
   ]
  },
  {
   "cell_type": "code",
   "execution_count": null,
   "id": "0303ba63",
   "metadata": {},
   "outputs": [],
   "source": [
    "# Naive Approach\n",
    "count[ low, high ] = count[high] – count[low-1]."
   ]
  },
  {
   "cell_type": "code",
   "execution_count": null,
   "id": "42e2ce62",
   "metadata": {},
   "outputs": [],
   "source": [
    "class Solution:\n",
    "    def countOdds(self, low: int, high: int) -> int:\n",
    "        count =0\n",
    "        for i in range(low,high+1):\n",
    "            if i%2==1:\n",
    "                count+=1\n",
    "        return count"
   ]
  },
  {
   "cell_type": "code",
   "execution_count": null,
   "id": "7431b8a7",
   "metadata": {},
   "outputs": [],
   "source": [
    "# optimum Approach\n",
    "We can deduce that count[n] = (n+1)/2\n",
    "Hence count[ low , high ] = (high+1)/2 – low/2"
   ]
  },
  {
   "cell_type": "code",
   "execution_count": null,
   "id": "977a710e",
   "metadata": {},
   "outputs": [],
   "source": [
    "import math\n",
    "class Solution:\n",
    "    def countOdds(self, low: int, high: int) -> int:\n",
    "        return (high+1)//2 -low//2\n",
    "'''\n",
    "Runtime: 52 ms, faster than 59.57% of Python3 online submissions for Count Odd Numbers in an Interval Range.\n",
    "Memory Usage: 13.9 MB, less than 10.86% of Python3 online submissions for Count Odd Numbers in an Interval Range.\n",
    "'''"
   ]
  },
  {
   "cell_type": "code",
   "execution_count": null,
   "id": "8b59f877",
   "metadata": {},
   "outputs": [],
   "source": []
  }
 ],
 "metadata": {
  "kernelspec": {
   "display_name": "Python 3 (ipykernel)",
   "language": "python",
   "name": "python3"
  },
  "language_info": {
   "codemirror_mode": {
    "name": "ipython",
    "version": 3
   },
   "file_extension": ".py",
   "mimetype": "text/x-python",
   "name": "python",
   "nbconvert_exporter": "python",
   "pygments_lexer": "ipython3",
   "version": "3.9.12"
  }
 },
 "nbformat": 4,
 "nbformat_minor": 5
}
