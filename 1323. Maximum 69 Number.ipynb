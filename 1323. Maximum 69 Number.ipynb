{
 "cells": [
  {
   "cell_type": "code",
   "execution_count": null,
   "id": "c88ffa2a",
   "metadata": {},
   "outputs": [],
   "source": [
    "You are given a positive integer num consisting only of digits 6 and 9.\n",
    "Return the maximum number you can get by changing at most one digit (6 becomes 9, and 9 becomes 6).\n",
    "Example 1:\n",
    "Input: num = 9669\n",
    "Output: 9969\n",
    "Explanation: \n",
    "Changing the first digit results in 6669.\n",
    "Changing the second digit results in 9969.\n",
    "Changing the third digit results in 9699.\n",
    "Changing the fourth digit results in 9666.\n",
    "The maximum number is 9969.\n",
    "Example 2:\n",
    "Input: num = 9996\n",
    "Output: 9999\n",
    "Explanation: Changing the last digit 6 to 9 results in the maximum number.\n",
    "Example 3:\n",
    "Input: num = 9999\n",
    "Output: 9999\n",
    "Explanation: It is better not to apply any change.\n",
    "Constraints:\n",
    "1 <= num <= 104\n",
    "num consists of only 6 and 9 digits.\n",
    "Accepted\n",
    "169,116\n",
    "Submissions\n",
    "207,503"
   ]
  },
  {
   "cell_type": "code",
   "execution_count": 1,
   "id": "d16c0105",
   "metadata": {},
   "outputs": [
    {
     "name": "stdout",
     "output_type": "stream",
     "text": [
      "9969\n"
     ]
    }
   ],
   "source": [
    "b = res = 9669\n",
    "a=list(str(b))\n",
    "n=len(a)\n",
    "i = n-1\n",
    "while i>=0:\n",
    "    c=list(str(b))\n",
    "    if a[i]=='6':\n",
    "        c[i]='9'\n",
    "    else:\n",
    "        c[i]='6'\n",
    "    d = \"\".join(c)\n",
    "    res = max(int(d),res) \n",
    "    i = i-1\n",
    "print(res)"
   ]
  },
  {
   "cell_type": "code",
   "execution_count": null,
   "id": "c8f84a6d",
   "metadata": {},
   "outputs": [],
   "source": []
  }
 ],
 "metadata": {
  "kernelspec": {
   "display_name": "Python 3 (ipykernel)",
   "language": "python",
   "name": "python3"
  },
  "language_info": {
   "codemirror_mode": {
    "name": "ipython",
    "version": 3
   },
   "file_extension": ".py",
   "mimetype": "text/x-python",
   "name": "python",
   "nbconvert_exporter": "python",
   "pygments_lexer": "ipython3",
   "version": "3.9.12"
  }
 },
 "nbformat": 4,
 "nbformat_minor": 5
}
